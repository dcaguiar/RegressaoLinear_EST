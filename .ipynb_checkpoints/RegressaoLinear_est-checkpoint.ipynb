{
 "cells": [
  {
   "cell_type": "code",
   "execution_count": 54,
   "id": "3505ef5b",
   "metadata": {},
   "outputs": [
    {
     "data": {
      "text/html": [
       "<div>\n",
       "<style scoped>\n",
       "    .dataframe tbody tr th:only-of-type {\n",
       "        vertical-align: middle;\n",
       "    }\n",
       "\n",
       "    .dataframe tbody tr th {\n",
       "        vertical-align: top;\n",
       "    }\n",
       "\n",
       "    .dataframe thead th {\n",
       "        text-align: right;\n",
       "    }\n",
       "</style>\n",
       "<table border=\"1\" class=\"dataframe\">\n",
       "  <thead>\n",
       "    <tr style=\"text-align: right;\">\n",
       "      <th></th>\n",
       "      <th>Unnamed: 0</th>\n",
       "      <th>Y</th>\n",
       "      <th>X1</th>\n",
       "      <th>X2</th>\n",
       "      <th>X3</th>\n",
       "      <th>X4</th>\n",
       "    </tr>\n",
       "  </thead>\n",
       "  <tbody>\n",
       "    <tr>\n",
       "      <th>0</th>\n",
       "      <td>1</td>\n",
       "      <td>1.448136</td>\n",
       "      <td>0.291702</td>\n",
       "      <td>2.587011</td>\n",
       "      <td>2.564149</td>\n",
       "      <td>2.233988</td>\n",
       "    </tr>\n",
       "    <tr>\n",
       "      <th>1</th>\n",
       "      <td>2</td>\n",
       "      <td>3.001715</td>\n",
       "      <td>0.517189</td>\n",
       "      <td>3.462381</td>\n",
       "      <td>3.414562</td>\n",
       "      <td>-1.518295</td>\n",
       "    </tr>\n",
       "    <tr>\n",
       "      <th>2</th>\n",
       "      <td>3</td>\n",
       "      <td>3.168068</td>\n",
       "      <td>0.607613</td>\n",
       "      <td>4.052388</td>\n",
       "      <td>3.974191</td>\n",
       "      <td>1.875687</td>\n",
       "    </tr>\n",
       "    <tr>\n",
       "      <th>3</th>\n",
       "      <td>4</td>\n",
       "      <td>2.522207</td>\n",
       "      <td>1.615740</td>\n",
       "      <td>1.999990</td>\n",
       "      <td>1.880660</td>\n",
       "      <td>1.234311</td>\n",
       "    </tr>\n",
       "    <tr>\n",
       "      <th>4</th>\n",
       "      <td>5</td>\n",
       "      <td>0.085236</td>\n",
       "      <td>-0.992394</td>\n",
       "      <td>2.667726</td>\n",
       "      <td>2.611272</td>\n",
       "      <td>2.660299</td>\n",
       "    </tr>\n",
       "    <tr>\n",
       "      <th>5</th>\n",
       "      <td>6</td>\n",
       "      <td>3.293039</td>\n",
       "      <td>1.932170</td>\n",
       "      <td>3.196037</td>\n",
       "      <td>3.166793</td>\n",
       "      <td>0.232232</td>\n",
       "    </tr>\n",
       "    <tr>\n",
       "      <th>6</th>\n",
       "      <td>7</td>\n",
       "      <td>1.033810</td>\n",
       "      <td>0.044219</td>\n",
       "      <td>1.461748</td>\n",
       "      <td>1.343791</td>\n",
       "      <td>1.160812</td>\n",
       "    </tr>\n",
       "    <tr>\n",
       "      <th>7</th>\n",
       "      <td>8</td>\n",
       "      <td>2.695423</td>\n",
       "      <td>1.913302</td>\n",
       "      <td>2.205511</td>\n",
       "      <td>2.310261</td>\n",
       "      <td>-0.912108</td>\n",
       "    </tr>\n",
       "    <tr>\n",
       "      <th>8</th>\n",
       "      <td>9</td>\n",
       "      <td>3.626690</td>\n",
       "      <td>2.768036</td>\n",
       "      <td>2.038721</td>\n",
       "      <td>2.114006</td>\n",
       "      <td>-1.871051</td>\n",
       "    </tr>\n",
       "    <tr>\n",
       "      <th>9</th>\n",
       "      <td>10</td>\n",
       "      <td>2.611396</td>\n",
       "      <td>1.399541</td>\n",
       "      <td>1.239386</td>\n",
       "      <td>1.267726</td>\n",
       "      <td>0.136095</td>\n",
       "    </tr>\n",
       "  </tbody>\n",
       "</table>\n",
       "</div>"
      ],
      "text/plain": [
       "   Unnamed: 0         Y        X1        X2        X3        X4\n",
       "0           1  1.448136  0.291702  2.587011  2.564149  2.233988\n",
       "1           2  3.001715  0.517189  3.462381  3.414562 -1.518295\n",
       "2           3  3.168068  0.607613  4.052388  3.974191  1.875687\n",
       "3           4  2.522207  1.615740  1.999990  1.880660  1.234311\n",
       "4           5  0.085236 -0.992394  2.667726  2.611272  2.660299\n",
       "5           6  3.293039  1.932170  3.196037  3.166793  0.232232\n",
       "6           7  1.033810  0.044219  1.461748  1.343791  1.160812\n",
       "7           8  2.695423  1.913302  2.205511  2.310261 -0.912108\n",
       "8           9  3.626690  2.768036  2.038721  2.114006 -1.871051\n",
       "9          10  2.611396  1.399541  1.239386  1.267726  0.136095"
      ]
     },
     "execution_count": 54,
     "metadata": {},
     "output_type": "execute_result"
    }
   ],
   "source": [
    "#import modules\n",
    "import matplotlib.pyplot as plt\n",
    "import numpy as np\n",
    "import pandas as pd\n",
    "from sklearn.linear_model import LinearRegression\n",
    "from sklearn.model_selection import train_test_split\n",
    "from sklearn.metrics import mean_squared_error\n",
    "from sklearn.neighbors import KNeighborsRegressor\n",
    "\n",
    "#import da\n",
    "data = pd.read_csv('Trabalho.csv')\n",
    "data.head(10)"
   ]
  },
  {
   "cell_type": "code",
   "execution_count": 55,
   "id": "a3e4a679",
   "metadata": {},
   "outputs": [],
   "source": [
    "x =  data[['X1', 'X2', 'X3', 'X4']]\n",
    "y = data['Y']\n",
    "x_train, x_test, y_train, y_test = train_test_split(x, y, test_size = 0.3, random_state = 42)"
   ]
  },
  {
   "cell_type": "code",
   "execution_count": 56,
   "id": "9600f6eb",
   "metadata": {},
   "outputs": [
    {
     "data": {
      "text/html": [
       "<style>#sk-container-id-8 {color: black;}#sk-container-id-8 pre{padding: 0;}#sk-container-id-8 div.sk-toggleable {background-color: white;}#sk-container-id-8 label.sk-toggleable__label {cursor: pointer;display: block;width: 100%;margin-bottom: 0;padding: 0.3em;box-sizing: border-box;text-align: center;}#sk-container-id-8 label.sk-toggleable__label-arrow:before {content: \"▸\";float: left;margin-right: 0.25em;color: #696969;}#sk-container-id-8 label.sk-toggleable__label-arrow:hover:before {color: black;}#sk-container-id-8 div.sk-estimator:hover label.sk-toggleable__label-arrow:before {color: black;}#sk-container-id-8 div.sk-toggleable__content {max-height: 0;max-width: 0;overflow: hidden;text-align: left;background-color: #f0f8ff;}#sk-container-id-8 div.sk-toggleable__content pre {margin: 0.2em;color: black;border-radius: 0.25em;background-color: #f0f8ff;}#sk-container-id-8 input.sk-toggleable__control:checked~div.sk-toggleable__content {max-height: 200px;max-width: 100%;overflow: auto;}#sk-container-id-8 input.sk-toggleable__control:checked~label.sk-toggleable__label-arrow:before {content: \"▾\";}#sk-container-id-8 div.sk-estimator input.sk-toggleable__control:checked~label.sk-toggleable__label {background-color: #d4ebff;}#sk-container-id-8 div.sk-label input.sk-toggleable__control:checked~label.sk-toggleable__label {background-color: #d4ebff;}#sk-container-id-8 input.sk-hidden--visually {border: 0;clip: rect(1px 1px 1px 1px);clip: rect(1px, 1px, 1px, 1px);height: 1px;margin: -1px;overflow: hidden;padding: 0;position: absolute;width: 1px;}#sk-container-id-8 div.sk-estimator {font-family: monospace;background-color: #f0f8ff;border: 1px dotted black;border-radius: 0.25em;box-sizing: border-box;margin-bottom: 0.5em;}#sk-container-id-8 div.sk-estimator:hover {background-color: #d4ebff;}#sk-container-id-8 div.sk-parallel-item::after {content: \"\";width: 100%;border-bottom: 1px solid gray;flex-grow: 1;}#sk-container-id-8 div.sk-label:hover label.sk-toggleable__label {background-color: #d4ebff;}#sk-container-id-8 div.sk-serial::before {content: \"\";position: absolute;border-left: 1px solid gray;box-sizing: border-box;top: 0;bottom: 0;left: 50%;z-index: 0;}#sk-container-id-8 div.sk-serial {display: flex;flex-direction: column;align-items: center;background-color: white;padding-right: 0.2em;padding-left: 0.2em;position: relative;}#sk-container-id-8 div.sk-item {position: relative;z-index: 1;}#sk-container-id-8 div.sk-parallel {display: flex;align-items: stretch;justify-content: center;background-color: white;position: relative;}#sk-container-id-8 div.sk-item::before, #sk-container-id-8 div.sk-parallel-item::before {content: \"\";position: absolute;border-left: 1px solid gray;box-sizing: border-box;top: 0;bottom: 0;left: 50%;z-index: -1;}#sk-container-id-8 div.sk-parallel-item {display: flex;flex-direction: column;z-index: 1;position: relative;background-color: white;}#sk-container-id-8 div.sk-parallel-item:first-child::after {align-self: flex-end;width: 50%;}#sk-container-id-8 div.sk-parallel-item:last-child::after {align-self: flex-start;width: 50%;}#sk-container-id-8 div.sk-parallel-item:only-child::after {width: 0;}#sk-container-id-8 div.sk-dashed-wrapped {border: 1px dashed gray;margin: 0 0.4em 0.5em 0.4em;box-sizing: border-box;padding-bottom: 0.4em;background-color: white;}#sk-container-id-8 div.sk-label label {font-family: monospace;font-weight: bold;display: inline-block;line-height: 1.2em;}#sk-container-id-8 div.sk-label-container {text-align: center;}#sk-container-id-8 div.sk-container {/* jupyter's `normalize.less` sets `[hidden] { display: none; }` but bootstrap.min.css set `[hidden] { display: none !important; }` so we also need the `!important` here to be able to override the default hidden behavior on the sphinx rendered scikit-learn.org. See: https://github.com/scikit-learn/scikit-learn/issues/21755 */display: inline-block !important;position: relative;}#sk-container-id-8 div.sk-text-repr-fallback {display: none;}</style><div id=\"sk-container-id-8\" class=\"sk-top-container\"><div class=\"sk-text-repr-fallback\"><pre>LinearRegression()</pre><b>In a Jupyter environment, please rerun this cell to show the HTML representation or trust the notebook. <br />On GitHub, the HTML representation is unable to render, please try loading this page with nbviewer.org.</b></div><div class=\"sk-container\" hidden><div class=\"sk-item\"><div class=\"sk-estimator sk-toggleable\"><input class=\"sk-toggleable__control sk-hidden--visually\" id=\"sk-estimator-id-8\" type=\"checkbox\" checked><label for=\"sk-estimator-id-8\" class=\"sk-toggleable__label sk-toggleable__label-arrow\">LinearRegression</label><div class=\"sk-toggleable__content\"><pre>LinearRegression()</pre></div></div></div></div></div>"
      ],
      "text/plain": [
       "LinearRegression()"
      ]
     },
     "execution_count": 56,
     "metadata": {},
     "output_type": "execute_result"
    }
   ],
   "source": [
    "model = LinearRegression()\n",
    "model.fit(x_train, y_train)"
   ]
  },
  {
   "cell_type": "code",
   "execution_count": 57,
   "id": "0a9fc561",
   "metadata": {},
   "outputs": [
    {
     "data": {
      "text/plain": [
       "0.5138141280512433"
      ]
     },
     "execution_count": 57,
     "metadata": {},
     "output_type": "execute_result"
    }
   ],
   "source": [
    "y_pred = model.predict(x_test)\n",
    "mse = mean_squared_error(y_test, y_pred)\n",
    "rmse = np.sqrt(mse)\n",
    "rmse"
   ]
  },
  {
   "cell_type": "code",
   "execution_count": 60,
   "id": "56fe98ac",
   "metadata": {},
   "outputs": [],
   "source": [
    "num_samples = 30\n",
    "rmse_values = []\n",
    "\n",
    "for _ in range(num_samples):\n",
    "    indices = np.random.choice(len(y_test), len(y_test), replace = True)\n",
    "    y_test_sampled = y_test.iloc[indices]\n",
    "    y_pred_sampled = y_pred[indices]\n",
    "    \n",
    "    rmse_sampled = np.sqrt(mean_squared_error(y_test_sampled, y_pred_sampled))\n",
    "    rmse_values.append(rmse_sampled)"
   ]
  },
  {
   "cell_type": "code",
   "execution_count": 59,
   "id": "f1d06515",
   "metadata": {},
   "outputs": [
    {
     "name": "stdout",
     "output_type": "stream",
     "text": [
      "95% Confidence Interval for RMSE: [ 0.42,  0.60]\n"
     ]
    }
   ],
   "source": [
    "lower_bound = np.percentile(rmse_values, 2.5)\n",
    "upper_bound = np.percentile(rmse_values, 97.5)\n",
    "print(f\"95% Confidence Interval for RMSE: [{lower_bound: .2f}, {upper_bound: .2f}]\")"
   ]
  },
  {
   "cell_type": "code",
   "execution_count": 37,
   "id": "bc532f96",
   "metadata": {},
   "outputs": [],
   "source": [
    "k_values = [1, 3, 5]\n",
    "knn_models = {}\n",
    "\n",
    "for k in k_values:\n",
    "    kmodel = KNeighborsRegressor(n_neighbors = k)\n",
    "    kmodel.fit(x_train, y_train)\n",
    "    knn_models[k] = kmodel"
   ]
  },
  {
   "cell_type": "code",
   "execution_count": 65,
   "id": "e52436c7",
   "metadata": {},
   "outputs": [],
   "source": [
    "knn_predictions = {k: model.predict(x_test) for k, model in knn_models.items()}\n",
    "for k in k_values:\n",
    "    kmodel = knn_models[k]\n",
    "    y_pred_k = kmodel.predict(x_test)\n",
    "    knn_predictions[k] = y_pred_k"
   ]
  },
  {
   "cell_type": "code",
   "execution_count": 66,
   "id": "2645c1f2",
   "metadata": {},
   "outputs": [
    {
     "name": "stdout",
     "output_type": "stream",
     "text": [
      "0.9099079542017415\n",
      "0.8926559176703633\n",
      "0.950817183967368\n"
     ]
    }
   ],
   "source": [
    "rmse_values = {}\n",
    "for k in k_values:\n",
    "    y_pred_k = knn_predictions[k]\n",
    "    rmse = np.sqrt(mean_squared_error(y_test, y_pred_k))\n",
    "    rmse_values[k] = rmse\n",
    "    print(rmse_values[k])"
   ]
  },
  {
   "cell_type": "code",
   "execution_count": 67,
   "id": "c2dae9d5",
   "metadata": {},
   "outputs": [
    {
     "name": "stdout",
     "output_type": "stream",
     "text": [
      "KNN (k=1) - RMSE: 0.91\n",
      "KNN (k=1) - 95% Confidence Interval for RMSE: [0.91, 0.91]\n",
      "KNN (k=3) - RMSE: 0.89\n",
      "KNN (k=3) - 95% Confidence Interval for RMSE: [0.89, 0.89]\n",
      "KNN (k=5) - RMSE: 0.95\n",
      "KNN (k=5) - 95% Confidence Interval for RMSE: [0.95, 0.95]\n"
     ]
    }
   ],
   "source": [
    "for k in k_values:\n",
    "    print(f\"KNN (k={k}) - RMSE: {rmse_values[k]:.2f}\")\n",
    "    \n",
    "    # Calculate the confidence interval for RMSE\n",
    "    lower_bound = np.percentile(rmse_values[k], 2.5)\n",
    "    upper_bound = np.percentile(rmse_values[k], 97.5)\n",
    "    print(f\"KNN (k={k}) - 95% Confidence Interval for RMSE: [{lower_bound:.2f}, {upper_bound:.2f}]\")\n"
   ]
  },
  {
   "cell_type": "code",
   "execution_count": null,
   "id": "41e57571",
   "metadata": {},
   "outputs": [],
   "source": []
  }
 ],
 "metadata": {
  "kernelspec": {
   "display_name": "Python 3 (ipykernel)",
   "language": "python",
   "name": "python3"
  },
  "language_info": {
   "codemirror_mode": {
    "name": "ipython",
    "version": 3
   },
   "file_extension": ".py",
   "mimetype": "text/x-python",
   "name": "python",
   "nbconvert_exporter": "python",
   "pygments_lexer": "ipython3",
   "version": "3.11.4"
  }
 },
 "nbformat": 4,
 "nbformat_minor": 5
}
