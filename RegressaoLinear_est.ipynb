{
 "cells": [
  {
   "cell_type": "code",
   "execution_count": 49,
   "id": "3505ef5b",
   "metadata": {},
   "outputs": [
    {
     "data": {
      "text/html": [
       "<div>\n",
       "<style scoped>\n",
       "    .dataframe tbody tr th:only-of-type {\n",
       "        vertical-align: middle;\n",
       "    }\n",
       "\n",
       "    .dataframe tbody tr th {\n",
       "        vertical-align: top;\n",
       "    }\n",
       "\n",
       "    .dataframe thead th {\n",
       "        text-align: right;\n",
       "    }\n",
       "</style>\n",
       "<table border=\"1\" class=\"dataframe\">\n",
       "  <thead>\n",
       "    <tr style=\"text-align: right;\">\n",
       "      <th></th>\n",
       "      <th>Unnamed: 0</th>\n",
       "      <th>Y</th>\n",
       "      <th>X1</th>\n",
       "      <th>X2</th>\n",
       "      <th>X3</th>\n",
       "      <th>X4</th>\n",
       "    </tr>\n",
       "  </thead>\n",
       "  <tbody>\n",
       "    <tr>\n",
       "      <th>0</th>\n",
       "      <td>1</td>\n",
       "      <td>1.448136</td>\n",
       "      <td>0.291702</td>\n",
       "      <td>2.587011</td>\n",
       "      <td>2.564149</td>\n",
       "      <td>2.233988</td>\n",
       "    </tr>\n",
       "    <tr>\n",
       "      <th>1</th>\n",
       "      <td>2</td>\n",
       "      <td>3.001715</td>\n",
       "      <td>0.517189</td>\n",
       "      <td>3.462381</td>\n",
       "      <td>3.414562</td>\n",
       "      <td>-1.518295</td>\n",
       "    </tr>\n",
       "    <tr>\n",
       "      <th>2</th>\n",
       "      <td>3</td>\n",
       "      <td>3.168068</td>\n",
       "      <td>0.607613</td>\n",
       "      <td>4.052388</td>\n",
       "      <td>3.974191</td>\n",
       "      <td>1.875687</td>\n",
       "    </tr>\n",
       "    <tr>\n",
       "      <th>3</th>\n",
       "      <td>4</td>\n",
       "      <td>2.522207</td>\n",
       "      <td>1.615740</td>\n",
       "      <td>1.999990</td>\n",
       "      <td>1.880660</td>\n",
       "      <td>1.234311</td>\n",
       "    </tr>\n",
       "    <tr>\n",
       "      <th>4</th>\n",
       "      <td>5</td>\n",
       "      <td>0.085236</td>\n",
       "      <td>-0.992394</td>\n",
       "      <td>2.667726</td>\n",
       "      <td>2.611272</td>\n",
       "      <td>2.660299</td>\n",
       "    </tr>\n",
       "    <tr>\n",
       "      <th>5</th>\n",
       "      <td>6</td>\n",
       "      <td>3.293039</td>\n",
       "      <td>1.932170</td>\n",
       "      <td>3.196037</td>\n",
       "      <td>3.166793</td>\n",
       "      <td>0.232232</td>\n",
       "    </tr>\n",
       "    <tr>\n",
       "      <th>6</th>\n",
       "      <td>7</td>\n",
       "      <td>1.033810</td>\n",
       "      <td>0.044219</td>\n",
       "      <td>1.461748</td>\n",
       "      <td>1.343791</td>\n",
       "      <td>1.160812</td>\n",
       "    </tr>\n",
       "    <tr>\n",
       "      <th>7</th>\n",
       "      <td>8</td>\n",
       "      <td>2.695423</td>\n",
       "      <td>1.913302</td>\n",
       "      <td>2.205511</td>\n",
       "      <td>2.310261</td>\n",
       "      <td>-0.912108</td>\n",
       "    </tr>\n",
       "    <tr>\n",
       "      <th>8</th>\n",
       "      <td>9</td>\n",
       "      <td>3.626690</td>\n",
       "      <td>2.768036</td>\n",
       "      <td>2.038721</td>\n",
       "      <td>2.114006</td>\n",
       "      <td>-1.871051</td>\n",
       "    </tr>\n",
       "    <tr>\n",
       "      <th>9</th>\n",
       "      <td>10</td>\n",
       "      <td>2.611396</td>\n",
       "      <td>1.399541</td>\n",
       "      <td>1.239386</td>\n",
       "      <td>1.267726</td>\n",
       "      <td>0.136095</td>\n",
       "    </tr>\n",
       "  </tbody>\n",
       "</table>\n",
       "</div>"
      ],
      "text/plain": [
       "   Unnamed: 0         Y        X1        X2        X3        X4\n",
       "0           1  1.448136  0.291702  2.587011  2.564149  2.233988\n",
       "1           2  3.001715  0.517189  3.462381  3.414562 -1.518295\n",
       "2           3  3.168068  0.607613  4.052388  3.974191  1.875687\n",
       "3           4  2.522207  1.615740  1.999990  1.880660  1.234311\n",
       "4           5  0.085236 -0.992394  2.667726  2.611272  2.660299\n",
       "5           6  3.293039  1.932170  3.196037  3.166793  0.232232\n",
       "6           7  1.033810  0.044219  1.461748  1.343791  1.160812\n",
       "7           8  2.695423  1.913302  2.205511  2.310261 -0.912108\n",
       "8           9  3.626690  2.768036  2.038721  2.114006 -1.871051\n",
       "9          10  2.611396  1.399541  1.239386  1.267726  0.136095"
      ]
     },
     "execution_count": 49,
     "metadata": {},
     "output_type": "execute_result"
    }
   ],
   "source": [
    "#import modules\n",
    "import matplotlib.pyplot as plt\n",
    "import numpy as np\n",
    "import pandas as pd\n",
    "from sklearn.linear_model import LinearRegression\n",
    "from sklearn.model_selection import train_test_split\n",
    "from sklearn.metrics import mean_squared_error\n",
    "from scipy.stats import t\n",
    "from sklearn.neighbors import KNeighborsRegressor\n",
    "\n",
    "#import da\n",
    "data = pd.read_csv('Trabalho.csv')\n",
    "data.head(10)"
   ]
  },
  {
   "cell_type": "code",
   "execution_count": 50,
   "id": "a3e4a679",
   "metadata": {},
   "outputs": [
    {
     "name": "stdout",
     "output_type": "stream",
     "text": [
      "X1    1.065132\n",
      "X2    2.135223\n",
      "X3    2.140792\n",
      "X4    1.004099\n",
      "dtype: float64\n",
      "X1    0.854632\n",
      "X2    0.946178\n",
      "X3    0.938934\n",
      "X4    1.298703\n",
      "dtype: float64\n",
      "          X1        X2        X3        X4\n",
      "11  0.414208 -0.129614 -0.107670  0.438472\n",
      "47 -1.304123 -0.526428 -0.491542  2.070589\n",
      "85 -1.283338  1.514198  1.425928 -0.524294\n",
      "28  0.549892  1.663366  1.643894 -0.096866\n",
      "93  0.484482 -1.517525 -1.603292  1.585748\n",
      "..       ...       ...       ...       ...\n",
      "60  0.177145  1.025887  0.881876 -1.203723\n",
      "71  1.873699 -0.975415 -0.981258  0.441620\n",
      "14  1.937073 -0.989189 -0.977106 -0.716054\n",
      "92  0.921402  0.359304  0.578378  1.890191\n",
      "51 -0.077770 -0.279738 -0.434346  0.100732\n",
      "\n",
      "[70 rows x 4 columns]\n"
     ]
    }
   ],
   "source": [
    "x =  data[['X1', 'X2', 'X3', 'X4']]\n",
    "y = data['Y']\n",
    "x_train, x_test, y_train, y_test = train_test_split(x, y, test_size = 0.3, random_state = 42)\n",
    "mean_train = x_train.mean()\n",
    "std_train = x_train.std()\n",
    "print(mean_train)\n",
    "print(std_train)\n",
    "x_train_standardized = (x_train - mean_train) / std_train\n",
    "print(x_train_standardized)"
   ]
  },
  {
   "cell_type": "code",
   "execution_count": 51,
   "id": "9600f6eb",
   "metadata": {},
   "outputs": [
    {
     "data": {
      "text/html": [
       "<style>#sk-container-id-6 {color: black;}#sk-container-id-6 pre{padding: 0;}#sk-container-id-6 div.sk-toggleable {background-color: white;}#sk-container-id-6 label.sk-toggleable__label {cursor: pointer;display: block;width: 100%;margin-bottom: 0;padding: 0.3em;box-sizing: border-box;text-align: center;}#sk-container-id-6 label.sk-toggleable__label-arrow:before {content: \"▸\";float: left;margin-right: 0.25em;color: #696969;}#sk-container-id-6 label.sk-toggleable__label-arrow:hover:before {color: black;}#sk-container-id-6 div.sk-estimator:hover label.sk-toggleable__label-arrow:before {color: black;}#sk-container-id-6 div.sk-toggleable__content {max-height: 0;max-width: 0;overflow: hidden;text-align: left;background-color: #f0f8ff;}#sk-container-id-6 div.sk-toggleable__content pre {margin: 0.2em;color: black;border-radius: 0.25em;background-color: #f0f8ff;}#sk-container-id-6 input.sk-toggleable__control:checked~div.sk-toggleable__content {max-height: 200px;max-width: 100%;overflow: auto;}#sk-container-id-6 input.sk-toggleable__control:checked~label.sk-toggleable__label-arrow:before {content: \"▾\";}#sk-container-id-6 div.sk-estimator input.sk-toggleable__control:checked~label.sk-toggleable__label {background-color: #d4ebff;}#sk-container-id-6 div.sk-label input.sk-toggleable__control:checked~label.sk-toggleable__label {background-color: #d4ebff;}#sk-container-id-6 input.sk-hidden--visually {border: 0;clip: rect(1px 1px 1px 1px);clip: rect(1px, 1px, 1px, 1px);height: 1px;margin: -1px;overflow: hidden;padding: 0;position: absolute;width: 1px;}#sk-container-id-6 div.sk-estimator {font-family: monospace;background-color: #f0f8ff;border: 1px dotted black;border-radius: 0.25em;box-sizing: border-box;margin-bottom: 0.5em;}#sk-container-id-6 div.sk-estimator:hover {background-color: #d4ebff;}#sk-container-id-6 div.sk-parallel-item::after {content: \"\";width: 100%;border-bottom: 1px solid gray;flex-grow: 1;}#sk-container-id-6 div.sk-label:hover label.sk-toggleable__label {background-color: #d4ebff;}#sk-container-id-6 div.sk-serial::before {content: \"\";position: absolute;border-left: 1px solid gray;box-sizing: border-box;top: 0;bottom: 0;left: 50%;z-index: 0;}#sk-container-id-6 div.sk-serial {display: flex;flex-direction: column;align-items: center;background-color: white;padding-right: 0.2em;padding-left: 0.2em;position: relative;}#sk-container-id-6 div.sk-item {position: relative;z-index: 1;}#sk-container-id-6 div.sk-parallel {display: flex;align-items: stretch;justify-content: center;background-color: white;position: relative;}#sk-container-id-6 div.sk-item::before, #sk-container-id-6 div.sk-parallel-item::before {content: \"\";position: absolute;border-left: 1px solid gray;box-sizing: border-box;top: 0;bottom: 0;left: 50%;z-index: -1;}#sk-container-id-6 div.sk-parallel-item {display: flex;flex-direction: column;z-index: 1;position: relative;background-color: white;}#sk-container-id-6 div.sk-parallel-item:first-child::after {align-self: flex-end;width: 50%;}#sk-container-id-6 div.sk-parallel-item:last-child::after {align-self: flex-start;width: 50%;}#sk-container-id-6 div.sk-parallel-item:only-child::after {width: 0;}#sk-container-id-6 div.sk-dashed-wrapped {border: 1px dashed gray;margin: 0 0.4em 0.5em 0.4em;box-sizing: border-box;padding-bottom: 0.4em;background-color: white;}#sk-container-id-6 div.sk-label label {font-family: monospace;font-weight: bold;display: inline-block;line-height: 1.2em;}#sk-container-id-6 div.sk-label-container {text-align: center;}#sk-container-id-6 div.sk-container {/* jupyter's `normalize.less` sets `[hidden] { display: none; }` but bootstrap.min.css set `[hidden] { display: none !important; }` so we also need the `!important` here to be able to override the default hidden behavior on the sphinx rendered scikit-learn.org. See: https://github.com/scikit-learn/scikit-learn/issues/21755 */display: inline-block !important;position: relative;}#sk-container-id-6 div.sk-text-repr-fallback {display: none;}</style><div id=\"sk-container-id-6\" class=\"sk-top-container\"><div class=\"sk-text-repr-fallback\"><pre>LinearRegression()</pre><b>In a Jupyter environment, please rerun this cell to show the HTML representation or trust the notebook. <br />On GitHub, the HTML representation is unable to render, please try loading this page with nbviewer.org.</b></div><div class=\"sk-container\" hidden><div class=\"sk-item\"><div class=\"sk-estimator sk-toggleable\"><input class=\"sk-toggleable__control sk-hidden--visually\" id=\"sk-estimator-id-6\" type=\"checkbox\" checked><label for=\"sk-estimator-id-6\" class=\"sk-toggleable__label sk-toggleable__label-arrow\">LinearRegression</label><div class=\"sk-toggleable__content\"><pre>LinearRegression()</pre></div></div></div></div></div>"
      ],
      "text/plain": [
       "LinearRegression()"
      ]
     },
     "execution_count": 51,
     "metadata": {},
     "output_type": "execute_result"
    }
   ],
   "source": [
    "model = LinearRegression()\n",
    "model.fit(x_train, y_train)"
   ]
  },
  {
   "cell_type": "code",
   "execution_count": 52,
   "id": "0a9fc561",
   "metadata": {},
   "outputs": [
    {
     "name": "stdout",
     "output_type": "stream",
     "text": [
      "83    0.094474\n",
      "53    0.806238\n",
      "70    0.327541\n",
      "45    0.562075\n",
      "44    0.410855\n",
      "39    0.270946\n",
      "22    0.791341\n",
      "80    0.509357\n",
      "10    0.712092\n",
      "0     0.628957\n",
      "18    0.098713\n",
      "30    0.356101\n",
      "73    0.850269\n",
      "33    0.407354\n",
      "90    0.195628\n",
      "4     0.887080\n",
      "76    0.505140\n",
      "77    0.411502\n",
      "12    0.312403\n",
      "31    0.309895\n",
      "55    0.013837\n",
      "88    0.379699\n",
      "26    0.275539\n",
      "42    0.311457\n",
      "69    0.688510\n",
      "15    0.674665\n",
      "40    0.858351\n",
      "96    0.178104\n",
      "9     0.547023\n",
      "72    0.156406\n",
      "Name: Y, dtype: float64\n",
      "0.4510517129704376\n"
     ]
    }
   ],
   "source": [
    "y_pred = model.predict(x_test)\n",
    "absolute_errors = np.abs(y_test - y_pred)\n",
    "absolute_mean_error = np.mean(absolute_errors)\n",
    "print(absolute_errors)\n",
    "print(absolute_mean_error)"
   ]
  },
  {
   "cell_type": "code",
   "execution_count": 53,
   "id": "56fe98ac",
   "metadata": {},
   "outputs": [
    {
     "name": "stdout",
     "output_type": "stream",
     "text": [
      "0.09188925706027758\n",
      "Absolute Mean Error:  0.45\n",
      "95% Confidence Interval for Absolute Mean Error: [ 0.36,  0.54]\n"
     ]
    }
   ],
   "source": [
    "se_absolute_mean_error = np.std(absolute_errors) / np.sqrt(len(absolute_errors))\n",
    "t_score = t.ppf(0.975, df = len(absolute_errors)-1)\n",
    "print(t_score * se_absolute_mean_error)\n",
    "lower_bound = absolute_mean_error - t_score * se_absolute_mean_error\n",
    "upper_bound = absolute_mean_error + t_score * se_absolute_mean_error\n",
    "print(f\"Absolute Mean Error: {absolute_mean_error: .2f}\")\n",
    "print(f\"95% Confidence Interval for Absolute Mean Error: [{lower_bound: .2f}, {upper_bound: .2f}]\")"
   ]
  },
  {
   "cell_type": "code",
   "execution_count": 54,
   "id": "bc532f96",
   "metadata": {},
   "outputs": [
    {
     "name": "stdout",
     "output_type": "stream",
     "text": [
      "KNN (k=1) Absolute Mean Error:  0.66\n",
      "KNN (k=1) 95% Confidence Interval for Absolute Mean Error: [0.42, 0.89]\n",
      "KNN (k=3) Absolute Mean Error:  0.67\n",
      "KNN (k=3) 95% Confidence Interval for Absolute Mean Error: [0.45, 0.89]\n",
      "KNN (k=5) Absolute Mean Error:  0.70\n",
      "KNN (k=5) 95% Confidence Interval for Absolute Mean Error: [0.45, 0.94]\n"
     ]
    }
   ],
   "source": [
    "k_values = [1, 3, 5]\n",
    "knn_models = {}\n",
    "knn_absolute_mean_errors = {}\n",
    "knn_lower_bounds = {}\n",
    "knn_upper_bounds = {}\n",
    "\n",
    "for k in k_values:\n",
    "    #create KNN regression\n",
    "    model = KNeighborsRegressor(n_neighbors = k)\n",
    "    model.fit(x_train, y_train)\n",
    "    knn_models[k] = model\n",
    "    \n",
    "    y_pred = model.predict(x_test)\n",
    "    absolute_errors = np.abs(y_test - y_pred)\n",
    "    absolute_mean_error = np.mean(absolute_errors)\n",
    "    knn_absolute_mean_errors[k] = absolute_mean_error\n",
    "    \n",
    "    se_absolute_mean_error = np.std(absolute_errors) / np.sqrt(len(absolute_errors))\n",
    "    t_score = t.ppf(0.975, df = len(absolute_errors)-1)\n",
    "    lower_bound = absolute_mean_error - t_score * se_absolute_mean_error\n",
    "    upper_bound = absolute_mean_error + t_score * se_absolute_mean_error\n",
    "    \n",
    "    knn_lower_bounds[k] = lower_bound\n",
    "    knn_upper_bounds[k] = upper_bound\n",
    "    \n",
    "for k in k_values:\n",
    "    print(f\"KNN (k={k}) Absolute Mean Error: {knn_absolute_mean_errors[k]: .2f}\")\n",
    "    print(f\"KNN (k={k}) 95% Confidence Interval for Absolute Mean Error: [{knn_lower_bounds[k]:.2f}, {knn_upper_bounds[k]:.2f}]\")"
   ]
  },
  {
   "cell_type": "code",
   "execution_count": null,
   "id": "baf3ce2a",
   "metadata": {},
   "outputs": [],
   "source": []
  }
 ],
 "metadata": {
  "kernelspec": {
   "display_name": "Python 3 (ipykernel)",
   "language": "python",
   "name": "python3"
  },
  "language_info": {
   "codemirror_mode": {
    "name": "ipython",
    "version": 3
   },
   "file_extension": ".py",
   "mimetype": "text/x-python",
   "name": "python",
   "nbconvert_exporter": "python",
   "pygments_lexer": "ipython3",
   "version": "3.11.4"
  }
 },
 "nbformat": 4,
 "nbformat_minor": 5
}
